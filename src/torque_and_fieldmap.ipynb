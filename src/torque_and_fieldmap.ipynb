{
 "cells": [
  {
   "cell_type": "code",
   "execution_count": 2,
   "id": "c407fa39",
   "metadata": {},
   "outputs": [],
   "source": [
    "import numpy as np\n",
    "from matplotlib import pyplot as plt"
   ]
  },
  {
   "cell_type": "markdown",
   "id": "ef633247",
   "metadata": {},
   "source": [
    "# moment $\\mu$ = $NIS$"
   ]
  },
  {
   "cell_type": "code",
   "execution_count": 3,
   "id": "9519ca15",
   "metadata": {},
   "outputs": [],
   "source": [
    "extent = [8, 12, 2.5, 0]\n",
    "\n",
    "\n",
    "# current magnitudes (A)\n",
    "I = np.arange(extent[3],extent[2],.1)\n",
    "# area magnitudes (m^2)\n",
    "r = np.arange(extent[0],extent[1],.1)\n",
    "r = r / 100 / 2\n",
    "S = np.pi * r**2\n",
    "\n",
    "# all possible magnetic moments(Am^2)\n",
    "mu = np.outer(I,S)\n",
    "\n",
    "# main magnetic field (Tesla)\n",
    "b0 = 3.045\n",
    "\n",
    "# torque\n",
    "t = b0*mu"
   ]
  },
  {
   "cell_type": "code",
   "execution_count": 4,
   "id": "6fdc84ef",
   "metadata": {},
   "outputs": [
    {
     "name": "stdout",
     "output_type": "stream",
     "text": [
      "Max Torque imparted = 0.08127974694779502 Nm\n"
     ]
    },
    {
     "data": {
      "image/png": "[encoded data removed]",
      "text/plain": [
       "<Figure size 432x288 with 2 Axes>"
      ]
     },
     "metadata": {
      "needs_background": "light"
     },
     "output_type": "display_data"
    }
   ],
   "source": [
    "plt.imshow(t, cmap='gray', extent=extent)\n",
    "plt.title(\"Torque (Nm)\")\n",
    "plt.ylabel(\"current (A)\")\n",
    "plt.xlabel(\"coil diameter (cm)\")\n",
    "plt.colorbar()\n",
    "\n",
    "print(f\"Max Torque imparted = {np.max(t)} Nm\")"
   ]
  },
  {
   "cell_type": "markdown",
   "id": "e90ac5f9",
   "metadata": {},
   "source": [
    "# Now to Simulate expected fieldmaps from a headcap of 16 coils"
   ]
  },
  {
   "cell_type": "code",
   "execution_count": 9,
   "id": "67a96dc9",
   "metadata": {},
   "outputs": [
    {
     "name": "stdout",
     "output_type": "stream",
     "text": [
      "Defaulting to user installation because normal site-packages is not writeable\n",
      "Requirement already satisfied: biot-savart in /home/rob/.local/lib/python3.10/site-packages (0.3)\n",
      "Requirement already satisfied: numpy in /usr/lib/python3/dist-packages (from biot-savart) (1.21.5)\n",
      "Requirement already satisfied: scipy in /usr/lib/python3/dist-packages (from biot-savart) (1.8.0)\n",
      "Requirement already satisfied: matplotlib in /usr/lib/python3/dist-packages (from biot-savart) (3.5.1)\n"
     ]
    }
   ],
   "source": [
    "\n",
    "\n",
    "!pip install biot-savart\n",
    "import biot_savart as bs"
   ]
  },
  {
   "cell_type": "code",
   "execution_count": null,
   "id": "d1f80083",
   "metadata": {},
   "outputs": [],
   "source": [
    "# design the coils.\n",
    "# start with one coil\n",
    "\n",
    "def gen_save_coils(self, x, y):\n",
    "    \"\"\"\n",
    "        Given position of coil, generate and save the coil geometries for 10 realistic current values\n",
    "        for \n",
    "    \"\"\"\n",
    "    # Store the coil x and y\n",
    "    self.coil_x = x\n",
    "    self.coil_y = y\n",
    "\n",
    "    # create the indeces in radians for which to generate the coil. 10 loops so the range is 0 to 10*2*pi. 50*10 = 500 points total.\n",
    "    pis = np.linspace(0,10*2*pi,500)\n",
    "\n",
    "    # create a numpy list of x,y,z points of the coil based of the pis indeces. \n",
    "    # Make the coil 630um in diameter\n",
    "    # center the coil around x, y\n",
    "    # Add 4th dimension to represent current through the segment, set to 1 for now\n",
    "    coil = np.array([315e-4*cos(pis)+x, 315e-4*sin(pis)+y, np.zeros(500), np.ones(500)]).T\n",
    "\n",
    "    # create a  of 10 currerangent values from 50uA-700uA\n",
    "    currents = np.linspace(50e-6,700e-6,10)\n",
    "\n",
    "    # duplicate the coil 10 times, and multiply the right value of 1 by the respective current value generated above\n",
    "    coils = [] \n",
    "    for current in currents:\n",
    "        coiltoappend = coil.copy()\n",
    "        coiltoappend[:,3] *= current\n",
    "        coils.append(coiltoappend)\n",
    "\n",
    "\n",
    "    # save the 10 coils in files in a folder called 'coils'. save them as text files with the current value in the name\n",
    "    for i, coil in enumerate(coils):\n",
    "        self.coil_paths.append('coils/coil_'+str(i)+'.txt')\n",
    "        np.savetxt('coils/coil_'+str(i)+'.txt', coil, delimiter=\", \")\n",
    "\n",
    "def setup_coil_for_test(self, coil_num):\n",
    "    \"\"\"\n",
    "        Set the coil used in numpy array format within the Spin Grid object.\n",
    "    \"\"\"\n",
    "    coil = bs.parse_coil(self.coil_paths[coil_num]) \n",
    "    chopped = bs.slice_coil(coil, 1)\n",
    "    self.test_coil = chopped\n",
    "\n",
    "\n",
    "def compute_off_resonance_from_preset_coil(self, pos=None):\n",
    "    \"\"\"\n",
    "        Set a [num_spins x 1] array of the off resonance frequency of each spin, in Hz.\n",
    "    \"\"\"\n",
    "    if pos is None:\n",
    "        pos = self.get_all_positions()\n",
    "\n",
    "    field = bs.calculate_field(self.test_coil, pos[0, :], pos[1, :], pos[2, :])\n",
    "    self.df = field[:,2] * 4258\n",
    "\n",
    "\n",
    "def compute_off_resonance_from_coil(self, coil_num, pos=None):\n",
    "    \"\"\"\n",
    "        ** so old code still works...\n",
    "        Set a [num_spins x 1] array of the off resonance frequency of each spin, in Hz.\n",
    "        Also set the coil used in numpy array format within the Spin Grid object.\n",
    "    \"\"\"\n",
    "\n",
    "    if pos is None:\n",
    "        pos = self.get_all_positions()\n",
    "\n",
    "    coil = bs.parse_coil(self.coil_paths[coil_num]) \n",
    "    chopped = bs.slice_coil(coil, 1)\n",
    "    self.test_coil = coil\n",
    "    field = bs.calculate_field(chopped, pos[0, :], pos[1, :], pos[2, :])\n",
    "    self.df = field[:,2] * 4258\n",
    "    \n",
    "\n",
    "def compute_off_resonance_from_coil_in_box(self, coil_num, box_width, box_height, box_depth):\n",
    "    \"\"\" \n",
    "        x_lim is a list with two elements, x_min and x_max. \n",
    "        y_lim is a list with two elements, y_min and y_max. \n",
    "\n",
    "        Return a [num_spins_in_box x 1] array of the off resonance frequency of each spin, in Hz.\n",
    "    \"\"\"\n",
    "    # Filter the positions, then use the above function\n",
    "    pos = self.get_all_positions()\n",
    "    pos_in_box = pos[:, np.abs(pos[0, :] - self.coil_x) < box_width/2]\n",
    "    pos_in_box = pos_in_box[:, np.abs(pos_in_box[1, :] - self.coil_y) < box_height/2]\n",
    "    pos_in_box = pos_in_box[:, np.abs(pos_in_box[2, :]) < box_depth/2]\n",
    "    \n",
    "    return self.compute_off_resonance_from_coil(coil_num, pos=pos_in_box)\n",
    "\n",
    "def plot_coil_field(self, coil_num):\n",
    "    \"\"\"\n",
    "        Plot the field of the coil.\n",
    "    \"\"\"\n",
    "    bs.plot_coil(self.coil_paths[coil_num])"
   ]
  },
  {
   "cell_type": "code",
   "execution_count": 5,
   "id": "4b73d53c",
   "metadata": {},
   "outputs": [
    {
     "name": "stdout",
     "output_type": "stream",
     "text": [
      "[5 6 7 8 9]\n",
      "[[ 0  0  0  0  0]\n",
      " [ 5  6  7  8  9]\n",
      " [10 12 14 16 18]\n",
      " [15 18 21 24 27]\n",
      " [20 24 28 32 36]]\n"
     ]
    },
    {
     "data": {
      "text/plain": [
       "<matplotlib.colorbar.Colorbar at 0x7f346deb7b50>"
      ]
     },
     "execution_count": 5,
     "metadata": {},
     "output_type": "execute_result"
    },
    {
     "data": {
      "image/png": "[encoded data removed]",
      "text/plain": [
       "<Figure size 432x288 with 2 Axes>"
      ]
     },
     "metadata": {
      "needs_background": "light"
     },
     "output_type": "display_data"
    }
   ],
   "source": [
    "# testing out the functions\n",
    "x = np.arange(5)\n",
    "y = np.arange(5,10)\n",
    "print(y)\n",
    "print(np.outer(x,y))\n",
    "plt.imshow(np.outer(x,y), cmap='gray')\n",
    "plt.colorbar()\n"
   ]
  }
 ],
 "metadata": {
  "kernelspec": {
   "display_name": "Python 3 (ipykernel)",
   "language": "python",
   "name": "python3"
  },
  "language_info": {
   "codemirror_mode": {
    "name": "ipython",
    "version": 3
   },
   "file_extension": ".py",
   "mimetype": "text/x-python",
   "name": "python",
   "nbconvert_exporter": "python",
   "pygments_lexer": "ipython3",
   "version": "3.10.12"
  }
 },
 "nbformat": 4,
 "nbformat_minor": 5
}
